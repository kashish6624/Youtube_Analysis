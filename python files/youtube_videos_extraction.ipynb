{
 "cells": [
  {
   "cell_type": "code",
   "execution_count": 171,
   "id": "dd5f59b6-2416-4e10-8bb2-de6ef8d8f635",
   "metadata": {},
   "outputs": [],
   "source": [
    "from googleapiclient.discovery import build\n",
    "import pandas as pd\n",
    "from datetime import datetime\n",
    "import isodate"
   ]
  },
  {
   "cell_type": "code",
   "execution_count": 172,
   "id": "6aad79ae-9fb9-4632-bc86-f37ad5f84b28",
   "metadata": {},
   "outputs": [],
   "source": [
    "api_key = 'YOUR_API_KEY'\n",
    "channel_id = 'EXTRACTED_CHANNEL_ID'\n",
    "\n",
    "youtube = build('youtube', 'v3', developerKey=api_key)"
   ]
  },
  {
   "cell_type": "code",
   "execution_count": 173,
   "id": "332b5a1a-2a54-4bbe-88e9-f175eb591e64",
   "metadata": {},
   "outputs": [],
   "source": [
    "res = youtube.channels().list(id=channel_id, part='snippet,contentDetails').execute()\n",
    "channel_title = res['items'][0]['snippet']['title']\n",
    "playlist_id = res['items'][0]['contentDetails']['relatedPlaylists']['uploads']"
   ]
  },
  {
   "cell_type": "code",
   "execution_count": 174,
   "id": "7495b099-fb2c-4c14-b915-46133e649680",
   "metadata": {},
   "outputs": [],
   "source": [
    "video_ids = []\n",
    "next_page_token = None\n",
    "\n",
    "while True:\n",
    "    res = youtube.playlistItems().list(\n",
    "        playlistId=playlist_id,\n",
    "        part='contentDetails',\n",
    "        maxResults=50,\n",
    "        pageToken=next_page_token\n",
    "    ).execute()\n",
    "    \n",
    "    for item in res['items']:\n",
    "        video_ids.append(item['contentDetails']['videoId'])\n",
    "\n",
    "    next_page_token = res.get('nextPageToken')\n",
    "    if not next_page_token:\n",
    "        break"
   ]
  },
  {
   "cell_type": "code",
   "execution_count": 175,
   "id": "2cb0dbf4-d129-464d-981f-95fd3782d3ec",
   "metadata": {},
   "outputs": [],
   "source": [
    "videos = []\n",
    "\n",
    "for i in range(0, len(video_ids), 50):\n",
    "    res = youtube.videos().list(\n",
    "        id=','.join(video_ids[i:i+50]),\n",
    "        part='snippet,statistics,contentDetails'\n",
    "    ).execute()\n",
    "    \n",
    "    for video in res['items']:\n",
    "        try:\n",
    "            duration = isodate.parse_duration(video['contentDetails']['duration']).total_seconds() / 60  # in minutes\n",
    "            videos.append({\n",
    "                'channel_name': channel_title,\n",
    "                'title': video['snippet']['title'],\n",
    "                'publishedAt': video['snippet']['publishedAt'],\n",
    "                'views': int(video['statistics'].get('viewCount', 0)),\n",
    "                'likes': int(video['statistics'].get('likeCount', 0)),\n",
    "                'comments': int(video['statistics'].get('commentCount', 0)),\n",
    "                'duration_min': round(duration, 2),\n",
    "                'is_short': duration < 1.0\n",
    "            })\n",
    "        except Exception as e:\n",
    "            print(\"Error with video:\", video.get('id'), e)\n"
   ]
  },
  {
   "cell_type": "code",
   "execution_count": 176,
   "id": "487cab2b-c5bf-443d-a2a7-3094f8258682",
   "metadata": {},
   "outputs": [],
   "source": [
    "df = pd.DataFrame(videos)\n",
    "df['publishedAt'] = pd.to_datetime(df['publishedAt'])\n",
    "df['weekday'] = df['publishedAt'].dt.day_name()\n",
    "df['hour'] = df['publishedAt'].dt.hour\n",
    "df['title_length'] = df['title'].apply(len)\n",
    "df['engagement'] = (df['likes'] + df['comments']) / df['views']"
   ]
  },
  {
   "cell_type": "code",
   "execution_count": 177,
   "id": "1180e9d8-be6a-4e3c-9b6f-cc0203ebaac9",
   "metadata": {},
   "outputs": [
    {
     "name": "stdout",
     "output_type": "stream",
     "text": [
      "\n"
     ]
    }
   ],
   "source": [
    "df.to_csv('PATH_TO_SAVE_FILE', index=False)\n",
    "\n",
    "print(\" Data collection complete. Total videos fetched:\", len(df))"
   ]
  },
  {
   "cell_type": "code",
   "execution_count": null,
   "id": "a2393ec8-0a94-4e65-accc-f3bf503d1805",
   "metadata": {},
   "outputs": [],
   "source": []
  }
 ],
 "metadata": {
  "kernelspec": {
   "display_name": "Python 3 (ipykernel)",
   "language": "python",
   "name": "python3"
  },
  "language_info": {
   "codemirror_mode": {
    "name": "ipython",
    "version": 3
   },
   "file_extension": ".py",
   "mimetype": "text/x-python",
   "name": "python",
   "nbconvert_exporter": "python",
   "pygments_lexer": "ipython3",
   "version": "3.12.2"
  }
 },
 "nbformat": 4,
 "nbformat_minor": 5
}
