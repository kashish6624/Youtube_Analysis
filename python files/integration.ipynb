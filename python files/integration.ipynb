{
 "cells": [
  {
   "cell_type": "code",
   "execution_count": 21,
   "id": "b098728f-1ab9-473a-a2e7-ba1f3bfe9f10",
   "metadata": {},
   "outputs": [],
   "source": [
    "import pandas as pd\n",
    "import re\n",
    "import glob\n",
    "import os"
   ]
  },
  {
   "cell_type": "code",
   "execution_count": 22,
   "id": "8f307e23-e443-43c8-a92a-81161ae31e68",
   "metadata": {},
   "outputs": [],
   "source": [
    "folder_path = 'PATH_TO_FOLDER'\n",
    "\n",
    "file_paths = glob.glob(os.path.join(folder_path, '*.csv'))\n",
    "dfs = [pd.read_csv(file) for file in file_paths]\n",
    "combined_df = pd.concat(dfs, ignore_index=True)"
   ]
  },
  {
   "cell_type": "code",
   "execution_count": 23,
   "id": "4a348777-c4d0-445e-a78e-010b08ff8979",
   "metadata": {},
   "outputs": [],
   "source": [
    "skills = [
    "]"
   ]
  },
  {
   "cell_type": "code",
   "execution_count": 24,
   "id": "4cda0505-f697-4c82-b7b2-fb8210e27c73",
   "metadata": {},
   "outputs": [],
   "source": [
    "def extract_skill(title):\n",
    "    title = str(title).lower()\n",
    "    for skill in skills:\n",
    "        if skill in title:\n",
    "            return skill\n",
    "    return 'unknown'"
   ]
  },
  {
   "cell_type": "code",
   "execution_count": 25,
   "id": "fd650d45-ad37-4bfd-a091-68f9fa04d700",
   "metadata": {},
   "outputs": [],
   "source": [
    "combined_df['channel_name'] = combined_df['channel_name'].str.strip().str.lower()"
   ]
  },
  {
   "cell_type": "code",
   "execution_count": 26,
   "id": "adaf5730-933f-42ce-8bb3-d7251de71d0e",
   "metadata": {},
   "outputs": [],
   "source": [
    "combined_df['skill'] = combined_df['title'].apply(extract_skill)\n"
   ]
  },
  {
   "cell_type": "code",
   "execution_count": 27,
   "id": "c4c73745-8869-40dc-afef-69f339f0072f",
   "metadata": {},
   "outputs": [
    {
     "name": "stdout",
     "output_type": "stream",
     "text": [
      "Data Saved.\n"
     ]
    }
   ],
   "source": [
    "combined_df.to_csv('E:/data analysis/youtube analysis/youtube_integrated_data.csv', index=False)\n",
    "print('Data Saved.')"
   ]
  },
  {
   "cell_type": "code",
   "execution_count": null,
   "id": "0c0b92ba-953b-49f3-85e5-192176d6d06b",
   "metadata": {},
   "outputs": [],
   "source": []
  }
 ],
 "metadata": {
  "kernelspec": {
   "display_name": "Python 3 (ipykernel)",
   "language": "python",
   "name": "python3"
  },
  "language_info": {
   "codemirror_mode": {
    "name": "ipython",
    "version": 3
   },
   "file_extension": ".py",
   "mimetype": "text/x-python",
   "name": "python",
   "nbconvert_exporter": "python",
   "pygments_lexer": "ipython3",
   "version": "3.12.2"
  }
 },
 "nbformat": 4,
 "nbformat_minor": 5
}
