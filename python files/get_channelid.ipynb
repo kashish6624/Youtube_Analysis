{
 "cells": [
  {
   "cell_type": "code",
   "execution_count": 1,
   "id": "140b881f-a33b-48f4-9b3f-39e937c72a42",
   "metadata": {},
   "outputs": [],
   "source": [
    "import requests"
   ]
  },
  {
   "cell_type": "code",
   "execution_count": 3,
   "id": "80504129-f177-4d4a-8bed-ff4ca9ffb197",
   "metadata": {},
   "outputs": [],
   "source": [
    "# Replace with your API key\n",
    "API_KEY = YOUR_API_KEY"
   ]
  },
  {
   "cell_type": "code",
   "execution_count": 5,
   "id": "8d98f3d2-1ee3-409f-b24a-c01012fd2c78",
   "metadata": {},
   "source": [
    "channel_names = []\n",
    "\n",
    "# Function to search YouTube and return channel ID\n",
    "def get_channel_id(channel_name):\n",
    "    url = f\"https://www.googleapis.com/youtube/v3/search?part=snippet&q={channel_name}&type=channel&key={API_KEY}\"\n",
    "    response = requests.get(url).json()\n",
    "    try:\n",
    "        return response['items'][0]['snippet']['title'], response['items'][0]['snippet']['channelId']\n",
    "    except (KeyError, IndexError):\n",
    "        return channel_name, \"Not Found\"\n",
    "\n",
    "# Fetch and print all channel IDs\n",
    "for name in channel_names:\n",
    "    title, channel_id = get_channel_id(name)\n",
    "    print(f\"{title}: {channel_id}\")"
   ]
  },
  {
   "cell_type": "code",
   "execution_count": null,
   "id": "612c440b-cad1-489b-842b-d8f971d3a348",
   "metadata": {},
   "outputs": [],
   "source": []
  }
 ],
 "metadata": {
  "kernelspec": {
   "display_name": "Python 3 (ipykernel)",
   "language": "python",
   "name": "python3"
  },
  "language_info": {
   "codemirror_mode": {
    "name": "ipython",
    "version": 3
   },
   "file_extension": ".py",
   "mimetype": "text/x-python",
   "name": "python",
   "nbconvert_exporter": "python",
   "pygments_lexer": "ipython3",
   "version": "3.12.2"
  }
 },
 "nbformat": 4,
 "nbformat_minor": 5
}
